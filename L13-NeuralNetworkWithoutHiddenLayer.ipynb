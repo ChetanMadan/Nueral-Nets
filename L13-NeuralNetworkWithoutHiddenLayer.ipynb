{
 "cells": [
  {
   "cell_type": "code",
   "execution_count": 12,
   "metadata": {
    "collapsed": true
   },
   "outputs": [],
   "source": [
    "import numpy as np"
   ]
  },
  {
   "cell_type": "code",
   "execution_count": 13,
   "metadata": {},
   "outputs": [
    {
     "data": {
      "text/plain": [
       "((4, 3), (4,))"
      ]
     },
     "execution_count": 13,
     "metadata": {},
     "output_type": "execute_result"
    }
   ],
   "source": [
    "X = np.array([[1,0,0],[1,0,1],[1,1,0],[1,1,1]])\n",
    "Y = np.array([0,0,0,1]).T\n",
    "X.shape, Y.shape"
   ]
  },
  {
   "cell_type": "code",
   "execution_count": 14,
   "metadata": {
    "collapsed": true
   },
   "outputs": [],
   "source": [
    "def sig(z):\n",
    "    return 1/(1 + np.exp(-z))"
   ]
  },
  {
   "cell_type": "code",
   "execution_count": 15,
   "metadata": {
    "collapsed": true
   },
   "outputs": [],
   "source": [
    "def derSig(z):\n",
    "    return sig(z)*(1 - sig(z))"
   ]
  },
  {
   "cell_type": "code",
   "execution_count": 32,
   "metadata": {},
   "outputs": [
    {
     "data": {
      "text/plain": [
       "array([[ 0.03140724],\n",
       "       [ 0.78007972],\n",
       "       [-0.19193232]])"
      ]
     },
     "execution_count": 32,
     "metadata": {},
     "output_type": "execute_result"
    }
   ],
   "source": [
    "weights = 2 * np.random.random((3,1)) - 1\n",
    "weights"
   ]
  },
  {
   "cell_type": "code",
   "execution_count": 17,
   "metadata": {
    "collapsed": true
   },
   "outputs": [],
   "source": [
    "def forward(x, weights):\n",
    "    output0 = x\n",
    "    input_o = np.dot(output0, weights)\n",
    "    output1 = sig(input_o)\n",
    "    return output1"
   ]
  },
  {
   "cell_type": "code",
   "execution_count": 28,
   "metadata": {
    "collapsed": true
   },
   "outputs": [],
   "source": [
    "def train(x, y, weights, lr):\n",
    "    for iter in range(10000):\n",
    "        output0 = x\n",
    "        input_o = np.dot(output0, weights)\n",
    "        output1 = sig(input_o)\n",
    "        \n",
    "        first_term = output1 - y\n",
    "        second_term = derSig(input_o)\n",
    "        first_two_terms = first_term * second_term\n",
    "        \n",
    "        changes = np.array([[0.0],[0.0],[0.0]])\n",
    "        \n",
    "        for i in range(3):\n",
    "            for j in range(4):\n",
    "                changes[i] += first_two_terms[j][0] * output0[j][i]\n",
    "        \n",
    "        weights = weights - lr * changes\n",
    "    return weights"
   ]
  },
  {
   "cell_type": "code",
   "execution_count": 30,
   "metadata": {},
   "outputs": [
    {
     "data": {
      "text/plain": [
       "array([[ 0.00938909],\n",
       "       [ 0.00265321],\n",
       "       [ 0.00251943],\n",
       "       [ 0.00070843]])"
      ]
     },
     "execution_count": 30,
     "metadata": {},
     "output_type": "execute_result"
    }
   ],
   "source": [
    "final_weights = train(X, Y, weights, 0.5)\n",
    "forward(X,final_weights)"
   ]
  },
  {
   "cell_type": "code",
   "execution_count": null,
   "metadata": {
    "collapsed": true
   },
   "outputs": [],
   "source": []
  }
 ],
 "metadata": {
  "anaconda-cloud": {},
  "kernelspec": {
   "display_name": "Python 3",
   "language": "python",
   "name": "python3"
  },
  "language_info": {
   "codemirror_mode": {
    "name": "ipython",
    "version": 3
   },
   "file_extension": ".py",
   "mimetype": "text/x-python",
   "name": "python",
   "nbconvert_exporter": "python",
   "pygments_lexer": "ipython3",
   "version": "3.6.4"
  }
 },
 "nbformat": 4,
 "nbformat_minor": 1
}
